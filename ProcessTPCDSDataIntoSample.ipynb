{
 "cells": [
  {
   "cell_type": "code",
   "execution_count": 1,
   "metadata": {},
   "outputs": [],
   "source": [
    "import pandas as pd\n",
    "import pyarrow as pa\n",
    "import pyarrow.parquet as pq"
   ]
  },
  {
   "cell_type": "code",
   "execution_count": 2,
   "metadata": {},
   "outputs": [],
   "source": [
    "INPUT_DIR = 'tpcds-raw-data'\n",
    "OUTPUT_DIR = 'tpcds-filtered'"
   ]
  },
  {
   "cell_type": "code",
   "execution_count": 8,
   "metadata": {},
   "outputs": [],
   "source": [
    "TABLE = 'store_sales'\n",
    "# read parquet with pyarrow to correctly read the schema\n",
    "input_table = pq.ParquetDataset(f'{INPUT_DIR}/{TABLE}/').read()\n",
    "# convert to pandas for computation\n",
    "pandas_df = input_table.to_pandas()\n",
    "# apply required filters\n",
    "pandas_filtered_df = pandas_df[abs(pandas_df['ss_ticket_number'].astype(str).apply(hash)) % 50 == 0]\n",
    "# convert back to pyarrow with input_table schema\n",
    "output_table = pa.Table.from_pandas(pandas_filtered_df, schema=input_table.schema)\n",
    "# save to disk\n",
    "pq.write_to_dataset(output_table, f'{OUTPUT_DIR}/{TABLE}', compression='SNAPPY')"
   ]
  },
  {
   "cell_type": "code",
   "execution_count": 4,
   "metadata": {},
   "outputs": [],
   "source": [
    "TABLE = 'date_dim'\n",
    "# read parquet with pyarrow to correctly read the schema\n",
    "input_table = pq.ParquetDataset(f'{INPUT_DIR}/{TABLE}/').read()\n",
    "# save to disk\n",
    "pq.write_to_dataset(input_table, f'{OUTPUT_DIR}/{TABLE}', compression='SNAPPY')"
   ]
  },
  {
   "cell_type": "code",
   "execution_count": 5,
   "metadata": {},
   "outputs": [],
   "source": [
    "TABLE = 'customer'\n",
    "# read parquet with pyarrow to correctly read the schema\n",
    "input_table = pq.ParquetDataset(f'{INPUT_DIR}/{TABLE}/').read()\n",
    "# convert to pandas for computation\n",
    "pandas_df = input_table.to_pandas()\n",
    "# apply required filters\n",
    "pandas_filtered_df = pandas_df[abs(pandas_df['c_customer_id'].apply(hash)) % 8 > 0]\n",
    "# convert back to pyarrow with input_table schema\n",
    "output_table = pa.Table.from_pandas(pandas_filtered_df, schema=input_table.schema)\n",
    "# save to disk\n",
    "pq.write_to_dataset(output_table, f'{OUTPUT_DIR}/{TABLE}', compression='SNAPPY')"
   ]
  },
  {
   "cell_type": "code",
   "execution_count": 6,
   "metadata": {},
   "outputs": [],
   "source": [
    "TABLE = 'item'\n",
    "# read parquet with pyarrow to correctly read the schema\n",
    "input_table = pq.ParquetDataset(f'{INPUT_DIR}/{TABLE}/').read()\n",
    "# convert to pandas for computation\n",
    "pandas_df = input_table.to_pandas()\n",
    "# apply required filters\n",
    "pandas_filtered_df = pandas_df[abs(pandas_df['i_item_id'].apply(hash)) % 8 > 0]\n",
    "# convert back to pyarrow with input_table schema\n",
    "output_table = pa.Table.from_pandas(pandas_filtered_df, schema=input_table.schema)\n",
    "# save to disk\n",
    "pq.write_to_dataset(output_table, f'{OUTPUT_DIR}/{TABLE}', compression='SNAPPY')"
   ]
  },
  {
   "cell_type": "code",
   "execution_count": 7,
   "metadata": {},
   "outputs": [],
   "source": [
    "TABLE = 'store'\n",
    "# read parquet with pyarrow to correctly read the schema\n",
    "input_table = pq.ParquetDataset(f'{INPUT_DIR}/{TABLE}/').read()\n",
    "# convert to pandas for computation\n",
    "pandas_df = input_table.to_pandas()\n",
    "# apply required filters\n",
    "pandas_filtered_df = pandas_df[abs(pandas_df['s_store_id'].apply(hash)) % 10 > 0]\n",
    "# convert back to pyarrow with input_table schema\n",
    "output_table = pa.Table.from_pandas(pandas_filtered_df, schema=input_table.schema)\n",
    "# save to disk\n",
    "pq.write_to_dataset(output_table, f'{OUTPUT_DIR}/{TABLE}', compression='SNAPPY')"
   ]
  },
  {
   "cell_type": "code",
   "execution_count": null,
   "metadata": {},
   "outputs": [],
   "source": []
  }
 ],
 "metadata": {
  "kernelspec": {
   "display_name": "Python 3",
   "language": "python",
   "name": "python3"
  },
  "language_info": {
   "codemirror_mode": {
    "name": "ipython",
    "version": 3
   },
   "file_extension": ".py",
   "mimetype": "text/x-python",
   "name": "python",
   "nbconvert_exporter": "python",
   "pygments_lexer": "ipython3",
   "version": "3.8.5"
  }
 },
 "nbformat": 4,
 "nbformat_minor": 4
}
