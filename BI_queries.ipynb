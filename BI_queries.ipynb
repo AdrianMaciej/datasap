{
 "cells": [
  {
   "cell_type": "code",
   "execution_count": 1,
   "id": "c322230e-7fc8-43ba-a040-366d890874d1",
   "metadata": {},
   "outputs": [],
   "source": [
    "import findspark\n",
    "findspark.init()\n",
    "\n",
    "import pyspark\n",
    "sc = pyspark.SparkContext()"
   ]
  },
  {
   "cell_type": "code",
   "execution_count": null,
   "id": "ee55f421-3988-454b-a99b-6e2a9545ae7b",
   "metadata": {},
   "outputs": [],
   "source": [
    "SHUFFLE_PARTITIONS = 2\n",
    "INPUT_LOC = 's3/somebucketname/tpcds-dwh'"
   ]
  },
  {
   "cell_type": "code",
   "execution_count": 73,
   "id": "e4f26ec5-06c6-415e-a1bd-634fcb4fd44c",
   "metadata": {},
   "outputs": [],
   "source": [
    "from pyspark.sql import SparkSession\n",
    "from pyspark.sql import functions as sf\n",
    "from pyspark.sql import Window\n",
    "from pyspark.sql.types import IntegerType, DecimalType, StringType, DateType, LongType, FloatType\n",
    "\n",
    "# initialise sparkContext\n",
    "spark = SparkSession.builder \\\n",
    "    .master('local') \\\n",
    "    .appName('BI_queries') \\\n",
    "    .config('spark.executor.memory', '5gb') \\\n",
    "    .config(\"spark.cores.max\", \"6\") \\\n",
    "    .config(\"spark.sql.shuffle.partitions\", SHUFFLE_PARTITIONS) \\\n",
    "    .config(\"spark.sql.catalogImplementation\",\"hive\") \\\n",
    "    .config(\"hive.metastore.client.factory.class\", \"com.amazonaws.glue.catalog.metastore.AWSGlueDataCatalogHiveClientFactory\") \\\n",
    "    .enableHiveSupport() \\\n",
    "    .getOrCreate()"
   ]
  },
  {
   "cell_type": "code",
   "execution_count": 85,
   "id": "ad232dc1-b17d-434f-bd8f-08d2d23ebbb4",
   "metadata": {},
   "outputs": [],
   "source": [
    "d_customer = spark.read.parquet(f'{INPUT_LOC}/d_customer/')\n",
    "d_customer.createOrReplaceTempView('d_customer')\n",
    "\n",
    "d_date_dim = spark.read.parquet(f'{INPUT_LOC}/d_date_dim/')\n",
    "d_date_dim.createOrReplaceTempView('d_date_dim')\n",
    "\n",
    "d_item = spark.read.parquet(f'{INPUT_LOC}/d_item/')\n",
    "d_item.createOrReplaceTempView('d_item')\n",
    "\n",
    "d_store = spark.read.parquet(f'{INPUT_LOC}/d_store/')\n",
    "d_store.createOrReplaceTempView('d_store')\n",
    "\n",
    "d_item_category = spark.read.parquet(f'{INPUT_LOC}/d_item_category/')\n",
    "d_item_category.createOrReplaceTempView('d_item_category')\n",
    "\n",
    "d_store_city = spark.read.parquet(f'{INPUT_LOC}/d_store_city/')\n",
    "d_store_city.createOrReplaceTempView('d_store_city')\n",
    "\n",
    "d_store_country = spark.read.parquet(f'{INPUT_LOC}/d_store_country/')\n",
    "d_store_country.createOrReplaceTempView('d_store_country')\n",
    "\n",
    "f_store_sales = spark.read.parquet(f'{INPUT_LOC}/f_store_sales/')\n",
    "f_store_sales.createOrReplaceTempView('f_store_sales')\n",
    "\n",
    "# aggregations\n",
    "a_store_sales_store_lvl = spark.read.parquet(f'{INPUT_LOC}/a_store_sales_store_lvl/')\n",
    "a_store_sales_store_lvl.createOrReplaceTempView('a_store_sales_store_lvl')\n",
    "\n",
    "a_store_sales_customer_lvl = spark.read.parquet(f'{INPUT_LOC}/a_store_sales_customer_lvl/')\n",
    "a_store_sales_customer_lvl.createOrReplaceTempView('a_store_sales_customer_lvl')\n",
    "\n",
    "a_store_sales_item_lvl = spark.read.parquet(f'{INPUT_LOC}/a_store_sales_item_lvl/')\n",
    "a_store_sales_item_lvl.createOrReplaceTempView('a_store_sales_item_lvl')\n",
    "\n",
    "a_store_sales_store_quantity_ma = spark.read.parquet(f'{INPUT_LOC}/a_store_sales_store_quantity_ma/')\n",
    "a_store_sales_store_quantity_ma.createOrReplaceTempView('a_store_sales_store_quantity_ma')"
   ]
  },
  {
   "cell_type": "code",
   "execution_count": 25,
   "id": "fa26467a-a10d-4e67-95cd-dfae854e993f",
   "metadata": {},
   "outputs": [
    {
     "name": "stdout",
     "output_type": "stream",
     "text": [
      "+----------+--------+--------------------+\n",
      "|ss_item_sk|sum_sold|      i_product_name|\n",
      "+----------+--------+--------------------+\n",
      "|     14119|    1017|n stoughtoughtese...|\n",
      "|      2881|     897|oughteingeingable...|\n",
      "|     14701|     862|oughtbarationeseo...|\n",
      "|      9799|     830|n stn stationn st...|\n",
      "|      2233|     819|pripriableable   ...|\n",
      "|     14059|     816|n stantibareseoug...|\n",
      "|     11671|     803|oughtationcallyou...|\n",
      "|     10645|     787|antiesecallybarou...|\n",
      "|      3140|     783|bareseoughtpri   ...|\n",
      "|     16867|     778|ationcallyeingcal...|\n",
      "+----------+--------+--------------------+\n",
      "\n"
     ]
    }
   ],
   "source": [
    "# 1a. Top 10 products (excl. products with the name UNKNOWN) in terms of total sales (sql code)\n",
    "spark.sql('''\n",
    "   select ss_item_sk, sum(sum_ss_quantity) as sum_sold, i_product_name\n",
    "   from a_store_sales_item_lvl AG\n",
    "   inner join (select i_item_sk, i_product_name from d_item where i_product_name <> 'UNKNOWN') DIM on AG.ss_item_sk = DIM.i_item_sk\n",
    "   group by ss_item_sk, i_product_name\n",
    "   order by sum_sold desc\n",
    "   limit 10\n",
    "    \n",
    "''').show()"
   ]
  },
  {
   "cell_type": "code",
   "execution_count": 29,
   "id": "f7070156-a23f-4017-9397-b28b1f958525",
   "metadata": {},
   "outputs": [
    {
     "name": "stdout",
     "output_type": "stream",
     "text": [
      "+----------+--------------------+--------+\n",
      "|ss_item_sk|      i_product_name|sum_sold|\n",
      "+----------+--------------------+--------+\n",
      "|     14119|n stoughtoughtese...|    1017|\n",
      "|      2881|oughteingeingable...|     897|\n",
      "|     14701|oughtbarationeseo...|     862|\n",
      "|      9799|n stn stationn st...|     830|\n",
      "|      2233|pripriableable   ...|     819|\n",
      "|     14059|n stantibareseoug...|     816|\n",
      "|     11671|oughtationcallyou...|     803|\n",
      "|     10645|antiesecallybarou...|     787|\n",
      "|      3140|bareseoughtpri   ...|     783|\n",
      "|     16867|ationcallyeingcal...|     778|\n",
      "+----------+--------------------+--------+\n",
      "\n"
     ]
    }
   ],
   "source": [
    "# 1b. Top 10 products (excl. products with the name UNKNOWN) in terms of total sales (spark code)\n",
    "a_store_sales_item_lvl \\\n",
    "    .join(d_item.filter(sf.col('i_product_name') != 'UNKNOWN').select(sf.col('i_item_sk').alias('ss_item_sk'), 'i_product_name'), 'ss_item_sk', 'inner') \\\n",
    "    .groupBy('ss_item_sk', 'i_product_name') \\\n",
    "    .agg(sf.sum('sum_ss_quantity').alias('sum_sold')) \\\n",
    "    .orderBy(sf.desc('sum_sold')) \\\n",
    "    .limit(10) \\\n",
    "    .show()"
   ]
  },
  {
   "cell_type": "code",
   "execution_count": 31,
   "id": "87815793-513a-40ca-87d1-ba0a9eab7b14",
   "metadata": {},
   "outputs": [
    {
     "name": "stdout",
     "output_type": "stream",
     "text": [
      "+-----------+--------+------------+\n",
      "|ss_store_sk|sum_sold|s_store_name|\n",
      "+-----------+--------+------------+\n",
      "|          2|  484939|        able|\n",
      "|          1|  473032|       ought|\n",
      "|         10|  458419|         bar|\n",
      "+-----------+--------+------------+\n",
      "\n"
     ]
    }
   ],
   "source": [
    "# 2a. Top 3 stores (excl. stores with the name UNKNOWN) in terms of total sales (sql code)\n",
    "spark.sql('''\n",
    "   select ss_store_sk, sum(sum_ss_quantity) as sum_sold, s_store_name\n",
    "   from a_store_sales_store_lvl AG\n",
    "   inner join (select s_store_sk, s_store_name from d_store where s_store_name <> 'UNKNOWN') DIM on AG.ss_store_sk = DIM.s_store_sk\n",
    "   group by ss_store_sk, s_store_name\n",
    "   order by sum_sold desc\n",
    "   limit 3\n",
    "    \n",
    "''').show()"
   ]
  },
  {
   "cell_type": "code",
   "execution_count": 33,
   "id": "904f7be8-d656-45a0-b9ae-f72fd61b3b56",
   "metadata": {},
   "outputs": [
    {
     "name": "stdout",
     "output_type": "stream",
     "text": [
      "+-----------+------------+--------+\n",
      "|ss_store_sk|s_store_name|sum_sold|\n",
      "+-----------+------------+--------+\n",
      "|          2|        able|  484939|\n",
      "|          1|       ought|  473032|\n",
      "|         10|         bar|  458419|\n",
      "+-----------+------------+--------+\n",
      "\n"
     ]
    }
   ],
   "source": [
    "# 2b. Top 3 stores (excl. stores with the name UNKNOWN) in terms of total sales (spark code)\n",
    "a_store_sales_store_lvl \\\n",
    "    .join(d_store.filter(sf.col('s_store_name') != 'UNKNOWN').select(sf.col('s_store_sk').alias('ss_store_sk'), 's_store_name'), 'ss_store_sk', 'inner') \\\n",
    "    .groupBy('ss_store_sk', 's_store_name') \\\n",
    "    .agg(sf.sum('sum_ss_quantity').alias('sum_sold')) \\\n",
    "    .orderBy(sf.desc('sum_sold')) \\\n",
    "    .limit(3) \\\n",
    "    .show()"
   ]
  },
  {
   "cell_type": "code",
   "execution_count": 37,
   "id": "c7b5f2f2-c296-4bd5-8dab-1aa741bc4f71",
   "metadata": {},
   "outputs": [
    {
     "name": "stdout",
     "output_type": "stream",
     "text": [
      "+--------------+--------+--------------------+--------------------+\n",
      "|ss_customer_sk|sum_sold|        c_first_name|         c_last_name|\n",
      "+--------------+--------+--------------------+--------------------+\n",
      "|         19469|    1841|Sally               |Andrews          ...|\n",
      "|          1691|    1823|Stephan             |Chavez           ...|\n",
      "|         87020|    1612|George              |Joyner           ...|\n",
      "|         17327|    1514|Kathy               |Pierce           ...|\n",
      "|         90438|    1474|Ann                 |Weaver           ...|\n",
      "|         94719|    1447|James               |Cruz             ...|\n",
      "|         58240|    1445|Mark                |Burrow           ...|\n",
      "|         67919|    1411|Kristine            |Oneill           ...|\n",
      "|         60349|    1401|Richard             |Gray             ...|\n",
      "|         24926|    1388|Joyce               |Adkins           ...|\n",
      "|         90279|    1386|Lori                |Wertz            ...|\n",
      "|          4801|    1379|Ashley              |Healy            ...|\n",
      "|          8304|    1368|Owen                |Graham           ...|\n",
      "|          4299|    1336|John                |Dortch           ...|\n",
      "|         25165|    1336|Edward              |Brooks           ...|\n",
      "|         98411|    1331|Andrew              |Strand           ...|\n",
      "|         91022|    1330|Sonja               |Dodson           ...|\n",
      "|          8647|    1322|Bruce               |Wells            ...|\n",
      "|         84507|    1320|Sylvia              |Jones            ...|\n",
      "|         99201|    1307|Dorothy             |Davis            ...|\n",
      "+--------------+--------+--------------------+--------------------+\n",
      "\n"
     ]
    }
   ],
   "source": [
    "# 3a. Top 20 customers (excl. customers with first and last names UNKNOWN) in terms of total sales (sql code)\n",
    "spark.sql('''\n",
    "   select ss_customer_sk, sum(sum_ss_quantity) as sum_sold, c_first_name, c_last_name\n",
    "   from a_store_sales_customer_lvl AG\n",
    "   inner join (select c_customer_sk, c_first_name, c_last_name from d_customer where c_first_name <> 'UNKNOWN' and c_last_name <> 'UNKNOWN') DIM on AG.ss_customer_sk = DIM.c_customer_sk\n",
    "   group by ss_customer_sk, c_first_name, c_last_name\n",
    "   order by sum_sold desc\n",
    "   limit 20\n",
    "    \n",
    "''').show()"
   ]
  },
  {
   "cell_type": "code",
   "execution_count": 42,
   "id": "72bcf5d2-0143-42b2-bf12-a0fc981deb46",
   "metadata": {},
   "outputs": [
    {
     "name": "stdout",
     "output_type": "stream",
     "text": [
      "+--------------+--------------------+--------------------+--------+\n",
      "|ss_customer_sk|        c_first_name|         c_last_name|sum_sold|\n",
      "+--------------+--------------------+--------------------+--------+\n",
      "|         19469|Sally               |Andrews          ...|    1841|\n",
      "|          1691|Stephan             |Chavez           ...|    1823|\n",
      "|         87020|George              |Joyner           ...|    1612|\n",
      "|         17327|Kathy               |Pierce           ...|    1514|\n",
      "|         90438|Ann                 |Weaver           ...|    1474|\n",
      "|         94719|James               |Cruz             ...|    1447|\n",
      "|         58240|Mark                |Burrow           ...|    1445|\n",
      "|         67919|Kristine            |Oneill           ...|    1411|\n",
      "|         60349|Richard             |Gray             ...|    1401|\n",
      "|         24926|Joyce               |Adkins           ...|    1388|\n",
      "|         90279|Lori                |Wertz            ...|    1386|\n",
      "|          4801|Ashley              |Healy            ...|    1379|\n",
      "|          8304|Owen                |Graham           ...|    1368|\n",
      "|          4299|John                |Dortch           ...|    1336|\n",
      "|         25165|Edward              |Brooks           ...|    1336|\n",
      "|         98411|Andrew              |Strand           ...|    1331|\n",
      "|         91022|Sonja               |Dodson           ...|    1330|\n",
      "|          8647|Bruce               |Wells            ...|    1322|\n",
      "|         84507|Sylvia              |Jones            ...|    1320|\n",
      "|         99201|Dorothy             |Davis            ...|    1307|\n",
      "+--------------+--------------------+--------------------+--------+\n",
      "\n"
     ]
    }
   ],
   "source": [
    "# 3b. Top 20 customers (excl. customers with first and last names UNKNOWN) in terms of total sales (spark code)\n",
    "a_store_sales_customer_lvl \\\n",
    "    .join(d_customer.filter((sf.col('c_first_name') != 'UNKNOWN') & (sf.col('c_last_name') != 'UNKNOWN')).select(sf.col('c_customer_sk').alias('ss_customer_sk'), 'c_first_name', 'c_last_name'), 'ss_customer_sk', 'inner') \\\n",
    "    .groupBy('ss_customer_sk', 'c_first_name', 'c_last_name') \\\n",
    "    .agg(sf.sum('sum_ss_quantity').alias('sum_sold')) \\\n",
    "    .orderBy(sf.desc('sum_sold')) \\\n",
    "    .limit(20) \\\n",
    "    .show()"
   ]
  },
  {
   "cell_type": "code",
   "execution_count": 46,
   "id": "3aefce50-7093-4b3d-a777-8b7d90aa4da6",
   "metadata": {},
   "outputs": [
    {
     "name": "stdout",
     "output_type": "stream",
     "text": [
      "+--------------+--------+\n",
      "|i_product_name|sum_sold|\n",
      "+--------------+--------+\n",
      "|       UNKNOWN|  341731|\n",
      "+--------------+--------+\n",
      "\n"
     ]
    }
   ],
   "source": [
    "# 4a. Total sales for the set of products with the name UNKNOWN (sql code)\n",
    "spark.sql('''\n",
    "   select i_product_name, sum(sum_ss_quantity) as sum_sold\n",
    "   from a_store_sales_item_lvl AG\n",
    "   inner join (select i_item_sk, i_product_name from d_item where i_product_name = 'UNKNOWN') DIM on AG.ss_item_sk = DIM.i_item_sk\n",
    "   group by i_product_name\n",
    "   order by sum_sold desc\n",
    "   limit 1\n",
    "    \n",
    "''').show()"
   ]
  },
  {
   "cell_type": "code",
   "execution_count": 59,
   "id": "86c764e6-1f2b-408b-b816-90e8000c9a60",
   "metadata": {},
   "outputs": [
    {
     "name": "stdout",
     "output_type": "stream",
     "text": [
      "+--------------+--------+\n",
      "|i_product_name|sum_sold|\n",
      "+--------------+--------+\n",
      "|       UNKNOWN|  341731|\n",
      "+--------------+--------+\n",
      "\n"
     ]
    }
   ],
   "source": [
    "# 4b. Total sales for the set of products with the name UNKNOWN (spark code)\n",
    "d_item \\\n",
    "    .select(sf.col('i_item_sk').alias('ss_item_sk'), 'i_product_name') \\\n",
    "    .filter(sf.col('i_product_name') == 'UNKNOWN') \\\n",
    "    .join(a_store_sales_item_lvl.select('ss_item_sk', 'sum_ss_quantity'), 'ss_item_sk', 'left') \\\n",
    "    .groupBy('i_product_name') \\\n",
    "    .agg(sf.sum('sum_ss_quantity').alias('sum_sold')) \\\n",
    "    .orderBy(sf.desc('sum_sold')) \\\n",
    "    .limit(1) \\\n",
    "    .show()"
   ]
  },
  {
   "cell_type": "code",
   "execution_count": 50,
   "id": "cbf5961c-c722-406d-a8dd-e5f2e7f75b6d",
   "metadata": {},
   "outputs": [
    {
     "name": "stdout",
     "output_type": "stream",
     "text": [
      "+------------+--------+\n",
      "|s_store_name|sum_sold|\n",
      "+------------+--------+\n",
      "|     UNKNOWN|   65751|\n",
      "+------------+--------+\n",
      "\n"
     ]
    }
   ],
   "source": [
    "# 5a. Total sales for the set of stores with the name UNKNOWN (sql code)\n",
    "spark.sql('''\n",
    "   select s_store_name, sum(sum_ss_quantity) as sum_sold\n",
    "   from a_store_sales_store_lvl AG\n",
    "   inner join (select s_store_sk, s_store_name from d_store where s_store_name = 'UNKNOWN') DIM on AG.ss_store_sk = DIM.s_store_sk\n",
    "   group by s_store_name\n",
    "   order by sum_sold desc\n",
    "   limit 1\n",
    "    \n",
    "''').show()"
   ]
  },
  {
   "cell_type": "code",
   "execution_count": 60,
   "id": "0d92f24e-a5be-4ff1-9151-a28441b8b8f2",
   "metadata": {},
   "outputs": [
    {
     "name": "stdout",
     "output_type": "stream",
     "text": [
      "+------------+--------+\n",
      "|s_store_name|sum_sold|\n",
      "+------------+--------+\n",
      "|     UNKNOWN|   65751|\n",
      "+------------+--------+\n",
      "\n"
     ]
    }
   ],
   "source": [
    "# 5b. Total sales for the set of stores with the name UNKNOWN (spark code)\n",
    "d_store \\\n",
    "    .select(sf.col('s_store_sk').alias('ss_store_sk'), 's_store_name') \\\n",
    "    .filter(sf.col('s_store_name') == 'UNKNOWN') \\\n",
    "    .join(a_store_sales_store_lvl.select('ss_store_sk', 'sum_ss_quantity'), 'ss_store_sk', 'left') \\\n",
    "    .groupBy('s_store_name') \\\n",
    "    .agg(sf.sum('sum_ss_quantity').alias('sum_sold')) \\\n",
    "    .orderBy(sf.desc('sum_sold')) \\\n",
    "    .limit(1) \\\n",
    "    .show()"
   ]
  },
  {
   "cell_type": "code",
   "execution_count": 61,
   "id": "f9e31d45-3172-4c67-87af-cff4478af46e",
   "metadata": {},
   "outputs": [
    {
     "name": "stdout",
     "output_type": "stream",
     "text": [
      "+------------+-----------+--------+\n",
      "|c_first_name|c_last_name|sum_sold|\n",
      "+------------+-----------+--------+\n",
      "|     UNKNOWN|    UNKNOWN|  442607|\n",
      "+------------+-----------+--------+\n",
      "\n"
     ]
    }
   ],
   "source": [
    "# 6a. Total sales for the set of customers with the first and last name UNKNOWN (sql code)\n",
    "spark.sql('''\n",
    "   select c_first_name, c_last_name, sum(sum_ss_quantity) as sum_sold\n",
    "   from a_store_sales_customer_lvl AG\n",
    "   inner join (select c_customer_sk, c_first_name, c_last_name from d_customer where c_first_name = 'UNKNOWN' and c_last_name = 'UNKNOWN') DIM on AG.ss_customer_sk = DIM.c_customer_sk\n",
    "   group by c_first_name, c_last_name\n",
    "   order by sum_sold desc\n",
    "   limit 1\n",
    "    \n",
    "''').show()"
   ]
  },
  {
   "cell_type": "code",
   "execution_count": 62,
   "id": "994cfc0d-40d5-44bc-88f9-85c42756ec55",
   "metadata": {},
   "outputs": [
    {
     "name": "stdout",
     "output_type": "stream",
     "text": [
      "+------------+-----------+--------+\n",
      "|c_first_name|c_last_name|sum_sold|\n",
      "+------------+-----------+--------+\n",
      "|     UNKNOWN|    UNKNOWN|  442607|\n",
      "+------------+-----------+--------+\n",
      "\n"
     ]
    }
   ],
   "source": [
    "# 6b. Total sales for the set of customers with the first and last name UNKNOWN (spark code)\n",
    "d_customer \\\n",
    "    .select(sf.col('c_customer_sk').alias('ss_customer_sk'), 'c_first_name', 'c_last_name') \\\n",
    "    .filter((sf.col('c_first_name') == 'UNKNOWN') & (sf.col('c_last_name') == 'UNKNOWN')) \\\n",
    "    .join(a_store_sales_customer_lvl.select('ss_customer_sk', 'sum_ss_quantity'), 'ss_customer_sk', 'left') \\\n",
    "    .groupBy('c_first_name', 'c_last_name') \\\n",
    "    .agg(sf.sum('sum_ss_quantity').alias('sum_sold')) \\\n",
    "    .orderBy(sf.desc('sum_sold')) \\\n",
    "    .limit(1) \\\n",
    "    .show()"
   ]
  },
  {
   "cell_type": "code",
   "execution_count": 63,
   "id": "c7cef70f-7734-4651-9381-84cc1cdf934d",
   "metadata": {},
   "outputs": [
    {
     "name": "stdout",
     "output_type": "stream",
     "text": [
      "+------------+-----------+--------+\n",
      "|c_first_name|c_last_name|sum_sold|\n",
      "+------------+-----------+--------+\n",
      "|     UNKNOWN|    UNKNOWN|  442607|\n",
      "+------------+-----------+--------+\n",
      "\n"
     ]
    }
   ],
   "source": [
    "# 6b. Total sales for the set of customers with the first and last name UNKNOWN (spark code)\n",
    "d_customer \\\n",
    "    .select(sf.col('c_customer_sk').alias('ss_customer_sk'), 'c_first_name', 'c_last_name') \\\n",
    "    .filter((sf.col('c_first_name') == 'UNKNOWN') & (sf.col('c_last_name') == 'UNKNOWN')) \\\n",
    "    .join(a_store_sales_customer_lvl.select('ss_customer_sk', 'sum_ss_quantity'), 'ss_customer_sk', 'left') \\\n",
    "    .groupBy('c_first_name', 'c_last_name') \\\n",
    "    .agg(sf.sum('sum_ss_quantity').alias('sum_sold')) \\\n",
    "    .orderBy(sf.desc('sum_sold')) \\\n",
    "    .limit(1) \\\n",
    "    .show()"
   ]
  },
  {
   "cell_type": "code",
   "execution_count": null,
   "id": "0e9d81fd-3aa0-42d3-ad9b-0fc6282ad5d7",
   "metadata": {},
   "outputs": [],
   "source": []
  }
 ],
 "metadata": {
  "kernelspec": {
   "display_name": "Python 3",
   "language": "python",
   "name": "python3"
  },
  "language_info": {
   "codemirror_mode": {
    "name": "ipython",
    "version": 3
   },
   "file_extension": ".py",
   "mimetype": "text/x-python",
   "name": "python",
   "nbconvert_exporter": "python",
   "pygments_lexer": "ipython3",
   "version": "3.8.5"
  }
 },
 "nbformat": 4,
 "nbformat_minor": 5
}
